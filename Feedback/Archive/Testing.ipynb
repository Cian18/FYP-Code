{
 "cells": [
  {
   "cell_type": "code",
   "execution_count": 3,
   "id": "15ba91f7",
   "metadata": {},
   "outputs": [],
   "source": [
    "import numpy as np\n",
    "import skfuzzy as fuzz\n",
    "from skfuzzy import control as ctrl\n",
    "import matplotlib.pyplot as plt\n",
    "import pandas as pd\n",
    "plt.style.use(['science', 'notebook', 'grid'])"
   ]
  },
  {
   "cell_type": "code",
   "execution_count": 6,
   "id": "776b7ab1",
   "metadata": {},
   "outputs": [
    {
     "data": {
      "text/plain": [
       "(array([ 3.83881723,  9.74028252, 13.12073351,  3.09397209]),\n",
       " array([ 3.55233833,  8.65166271, 12.83425461,  2.86478898]))"
      ]
     },
     "execution_count": 6,
     "metadata": {},
     "output_type": "execute_result"
    }
   ],
   "source": [
    "#Import the error arrays\n",
    "err_con = np.loadtxt('C:\\\\Users\\\\Cian\\\\1 FYP Code\\\\Code_with_git\\\\Prototype 3\\\\Feedback\\\\Data\\\\Front Concentric Error.txt')\n",
    "err_ecc = np.loadtxt('C:\\\\Users\\\\Cian\\\\1 FYP Code\\\\Code_with_git\\\\Prototype 3\\\\Feedback\\\\Data\\\\Front Eccentric Error.txt')\n",
    "\n",
    "#Calculate the mean and standard deviation of the errors for each feature.\n",
    "err_con_mean = np.round(np.mean(err_con, axis=1),3)\n",
    "err_con_std = np.round(np.std(err_con, axis=1),3)\n",
    "err_ecc_mean = np.round(np.mean(err_ecc, axis=1),3)\n",
    "err_ecc_std = np.round(np.std(err_ecc, axis=1),3)\n",
    "\n",
    "# change the angular values to degrees\n",
    "err_con_mean[:5] = np.rad2deg(err_con_mean[:5])\n",
    "err_con_std[:5] = np.rad2deg(err_con_std[:5])\n",
    "err_ecc_mean[:5] = np.rad2deg(err_ecc_mean[:5])\n",
    "err_ecc_std[:5] = np.rad2deg(err_ecc_std[:5])\n",
    "\n",
    "err_con_std,err_ecc_std"
   ]
  },
  {
   "cell_type": "code",
   "execution_count": 7,
   "id": "b3ccf98a",
   "metadata": {},
   "outputs": [],
   "source": [
    "import sys\n",
    "sys.path.append(\"C:\\\\Users\\\\Cian\\\\1 FYP Code\\\\Code_with_git\\\\Functions\")\n",
    "from Functions_Squat import signed_error"
   ]
  },
  {
   "cell_type": "code",
   "execution_count": 4,
   "id": "e98931f5",
   "metadata": {},
   "outputs": [
    {
     "name": "stderr",
     "output_type": "stream",
     "text": [
      "WARNING:absl:Compiled the loaded model, but the compiled metrics have yet to be built. `model.compile_metrics` will be empty until you train or evaluate the model.\n"
     ]
    },
    {
     "name": "stdout",
     "output_type": "stream",
     "text": [
      "\u001b[1m6/6\u001b[0m \u001b[32m━━━━━━━━━━━━━━━━━━━━\u001b[0m\u001b[37m\u001b[0m \u001b[1m1s\u001b[0m 99ms/step\n"
     ]
    },
    {
     "name": "stderr",
     "output_type": "stream",
     "text": [
      "WARNING:absl:Compiled the loaded model, but the compiled metrics have yet to be built. `model.compile_metrics` will be empty until you train or evaluate the model.\n"
     ]
    },
    {
     "name": "stdout",
     "output_type": "stream",
     "text": [
      "\u001b[1m1/1\u001b[0m \u001b[32m━━━━━━━━━━━━━━━━━━━━\u001b[0m\u001b[37m\u001b[0m \u001b[1m0s\u001b[0m 43ms/step\n",
      "[ 0.6         1.73333333  2.66666667  3.6         5.06666667  6.26666667\n",
      "  7.8         9.26666667 11.2       ]\n",
      "Front\n"
     ]
    }
   ],
   "source": [
    "con_err, con_interp, corr_con, ecc_err, ecc_interp, corr_ecc = signed_error(100, \"C:\\\\Users\\\\Cian\\\\Downloads\\\\front.mp4\")"
   ]
  },
  {
   "cell_type": "code",
   "execution_count": 15,
   "id": "1ee5b767",
   "metadata": {},
   "outputs": [],
   "source": [
    "means = []\n",
    "for i in range(len(con_err)):\n",
    "    splits = np.array_split(con_err[i,:,5], 3)\n",
    "    means.append([np.mean(splits[j]) for j in range(3)])\n",
    "means = np.array(means).ravel()"
   ]
  },
  {
   "cell_type": "code",
   "execution_count": 16,
   "id": "9449301c",
   "metadata": {},
   "outputs": [
    {
     "data": {
      "text/plain": [
       "array([ 0.07128114,  0.10820279,  0.04746332, -0.55756989, -0.4960694 ,\n",
       "       -0.17545466, -0.46561928, -0.45812805, -0.27346223])"
      ]
     },
     "execution_count": 16,
     "metadata": {},
     "output_type": "execute_result"
    }
   ],
   "source": [
    "means"
   ]
  },
  {
   "cell_type": "code",
   "execution_count": 17,
   "id": "ec9e0828",
   "metadata": {},
   "outputs": [],
   "source": [
    "labels = np.array([0,0,0,-0.5,-0.5,0,-0.5,-1,0])\n",
    "np.savetxt(\"C:\\\\Users\\\\Cian\\\\Downloads\\\\data_t\", means)\n",
    "np.savetxt(\"C:\\\\Users\\\\Cian\\\\Downloads\\\\data_l\", labels)"
   ]
  },
  {
   "cell_type": "code",
   "execution_count": 7,
   "id": "0c7df76d",
   "metadata": {},
   "outputs": [],
   "source": [
    "f=0\n",
    "#Acquire the values for defining the \"correct\" membership function\n",
    "corr = np.array([err_ecc_mean[f]-3.5*err_ecc_std[f],err_ecc_mean[f]-2*err_ecc_std[f], err_ecc_mean[f]+2*err_ecc_std[f], err_ecc_mean[f]+3.5*err_ecc_std[f]])\n",
    "med_neg = np.array([corr[0]-3*err_ecc_std[f], corr[0]-2*err_ecc_std[f], corr[0], corr[1]])\n",
    "med_pos = np.array([corr[-2], corr[-1], corr[-1]+2*err_ecc_std[f], corr[-1]+3*err_ecc_std[f]])\n",
    "lar_neg = np.array([-100, -100, med_neg[0], med_neg[1]])\n",
    "lar_pos = np.array([med_pos[-2], med_pos[-1],100,100])\n",
    "\n",
    "#def inputs\n",
    "beg = ctrl.Antecedent(np.arange(-100,100,0.1),'Beginning')\n",
    "\n",
    "#def membership functions\n",
    "beg['Correct'] = fuzz.trapmf(beg.universe, corr)\n",
    "beg['Medium_neg'] = fuzz.trapmf(beg.universe, med_neg)\n",
    "beg['Medium_pos'] = fuzz.trapmf(beg.universe, med_pos)\n",
    "beg['Large_neg'] = fuzz.trapmf(beg.universe, lar_neg)\n",
    "beg['Large_pos'] = fuzz.trapmf(beg.universe, lar_pos)\n",
    "\n",
    "\n",
    "#def outputs\n",
    "out_beg = ctrl.Consequent(np.arange(-1.5, 1.51, 0.01), 'output')\n",
    "\n",
    "out_beg['Incorrect Negative'] = fuzz.trapmf(out_beg.universe,[-1.5,-1.2,-0.8,-0.5])\n",
    "out_beg['Medium Negative'] = fuzz.trapmf(out_beg.universe,[-0.8,-0.6,-0.4,-0.2])\n",
    "out_beg['Correct'] = fuzz.trapmf(out_beg.universe,[-0.5,-0.2,0.2,0.5])\n",
    "out_beg['Medium Positive'] = fuzz.trapmf(out_beg.universe,[0.2,0.4,0.6,0.8])\n",
    "out_beg['Incorrect Positive'] = fuzz.trapmf(out_beg.universe,[0.5,0.8,1.2,1.5])\n",
    "\n",
    "\n",
    "#def rules\n",
    "rules_beg = []\n",
    "\n",
    "rules_beg.append(ctrl.Rule(beg['Correct'], out_beg['Correct']))\n",
    "rules_beg.append(ctrl.Rule(beg['Medium_neg'], out_beg['Medium Negative']))\n",
    "rules_beg.append(ctrl.Rule(beg['Medium_pos'], out_beg['Medium Positive']))\n",
    "rules_beg.append(ctrl.Rule(beg['Large_neg'], out_beg['Incorrect Negative']))\n",
    "rules_beg.append(ctrl.Rule(beg['Large_pos'], out_beg['Incorrect Positive']))\n",
    "\n",
    "#def system\n",
    "sys_beg = ctrl.ControlSystem(rules_beg)"
   ]
  },
  {
   "cell_type": "code",
   "execution_count": 8,
   "id": "3dfaf600",
   "metadata": {},
   "outputs": [
    {
     "name": "stdout",
     "output_type": "stream",
     "text": [
      "0.0\n",
      "0.0\n",
      "0.0\n"
     ]
    }
   ],
   "source": [
    "#simulate beginning\n",
    "sim_beg = ctrl.ControlSystemSimulation(sys_beg)\n",
    "sim_beg.input['Beginning'] = means[0]\n",
    "sim_beg.compute()\n",
    "print(np.round(sim_beg.output['output'],3))\n",
    "\n",
    "#simulate beginning\n",
    "sim_beg = ctrl.ControlSystemSimulation(sys_beg)\n",
    "sim_beg.input['Beginning'] = means[1]\n",
    "sim_beg.compute()\n",
    "print(np.round(sim_beg.output['output'],3))\n",
    "\n",
    "#simulate beginning\n",
    "sim_beg = ctrl.ControlSystemSimulation(sys_beg)\n",
    "sim_beg.input['Beginning'] = means[2]\n",
    "sim_beg.compute()\n",
    "print(np.round(sim_beg.output['output'],3))"
   ]
  },
  {
   "cell_type": "code",
   "execution_count": null,
   "id": "eb619dd6",
   "metadata": {},
   "outputs": [],
   "source": []
  }
 ],
 "metadata": {
  "kernelspec": {
   "display_name": "Python 3 (ipykernel)",
   "language": "python",
   "name": "python3"
  },
  "language_info": {
   "codemirror_mode": {
    "name": "ipython",
    "version": 3
   },
   "file_extension": ".py",
   "mimetype": "text/x-python",
   "name": "python",
   "nbconvert_exporter": "python",
   "pygments_lexer": "ipython3",
   "version": "3.9.12"
  }
 },
 "nbformat": 4,
 "nbformat_minor": 5
}
