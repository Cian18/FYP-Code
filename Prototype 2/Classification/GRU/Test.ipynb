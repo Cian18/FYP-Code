{
 "cells": [
  {
   "cell_type": "code",
   "execution_count": 4,
   "id": "7035e096",
   "metadata": {},
   "outputs": [],
   "source": [
    "import sys\n",
    "sys.path.append(\"C:\\\\Users\\\\Cian\\\\1 FYP Code\\\\Code_with_git\\\\Functions\")\n",
    "from Functions import Bicep_Curl_Classification"
   ]
  },
  {
   "cell_type": "code",
   "execution_count": 5,
   "id": "a8ec64ec",
   "metadata": {},
   "outputs": [],
   "source": [
    "path = \"C:\\\\Users\\\\Cian\\\\Downloads\\\\Test Curl 3.mp4\""
   ]
  },
  {
   "cell_type": "code",
   "execution_count": 6,
   "id": "053eb831",
   "metadata": {},
   "outputs": [
    {
     "name": "stderr",
     "output_type": "stream",
     "text": [
      "WARNING:absl:Compiled the loaded model, but the compiled metrics have yet to be built. `model.compile_metrics` will be empty until you train or evaluate the model.\n"
     ]
    },
    {
     "name": "stdout",
     "output_type": "stream",
     "text": [
      "\u001b[1m7/7\u001b[0m \u001b[32m━━━━━━━━━━━━━━━━━━━━\u001b[0m\u001b[37m\u001b[0m \u001b[1m1s\u001b[0m 48ms/step\n"
     ]
    }
   ],
   "source": [
    "result = Bicep_Curl_Classification(path)"
   ]
  },
  {
   "cell_type": "code",
   "execution_count": 7,
   "id": "47de810d",
   "metadata": {},
   "outputs": [
    {
     "data": {
      "text/plain": [
       "array([ 1.6       ,  4.33333333,  5.66666667,  8.86666667, 10.13333333,\n",
       "       13.6       , 14.26666667])"
      ]
     },
     "execution_count": 7,
     "metadata": {},
     "output_type": "execute_result"
    }
   ],
   "source": [
    "import tensorflow as tf\n",
    "from tensorflow.keras.preprocessing.sequence import pad_sequences\n",
    "from tensorflow.keras.models import Sequential\n",
    "from tensorflow.keras.layers import GRU, Dense\n",
    "import numpy as np\n",
    "import cv2 as cv\n",
    "import mediapipe as mp\n",
    "import numpy as np\n",
    "from keras.utils import to_categorical\n",
    "\n",
    "dt = 1/15\n",
    "choice = to_categorical(np.argmax(result,axis=1),3)\n",
    "change = choice[1:]*choice[:-1]\n",
    "C = (np.where(np.sum((change == np.array([0,0,0])), axis=1) == 3)[0]+9)*dt\n",
    "C"
   ]
  },
  {
   "cell_type": "code",
   "execution_count": null,
   "id": "b2c2556e",
   "metadata": {},
   "outputs": [],
   "source": []
  }
 ],
 "metadata": {
  "kernelspec": {
   "display_name": "Python 3 (ipykernel)",
   "language": "python",
   "name": "python3"
  },
  "language_info": {
   "codemirror_mode": {
    "name": "ipython",
    "version": 3
   },
   "file_extension": ".py",
   "mimetype": "text/x-python",
   "name": "python",
   "nbconvert_exporter": "python",
   "pygments_lexer": "ipython3",
   "version": "3.9.12"
  }
 },
 "nbformat": 4,
 "nbformat_minor": 5
}
